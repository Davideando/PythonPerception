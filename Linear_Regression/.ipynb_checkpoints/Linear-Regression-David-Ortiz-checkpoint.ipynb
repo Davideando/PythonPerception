{
 "cells": [
  {
   "cell_type": "markdown",
   "metadata": {},
   "source": [
    "# Linear Regression\n",
    "\n",
    "Antes de realizar ningún punto, se inicializa todas las funciones que se van a necesitar en todo el programa"
   ]
  },
  {
   "cell_type": "code",
   "execution_count": 1,
   "metadata": {
    "collapsed": true
   },
   "outputs": [],
   "source": [
    "# Se importa la librería de numpy\n",
    "import numpy as np\n",
    "# Se importa la función para obtener el valor de \"Least-squares\"\n",
    "from scipy.linalg import lstsq"
   ]
  },
  {
   "cell_type": "markdown",
   "metadata": {},
   "source": [
    "- **Q1**) Se descarga todo el dataset, y se guarda con el nombre de \"*housing.data*\". \n",
    "\n",
    "- **Q2**) Se cargan los datos y se separa la última columna."
   ]
  },
  {
   "cell_type": "code",
   "execution_count": 2,
   "metadata": {
    "collapsed": false
   },
   "outputs": [
    {
     "name": "stdout",
     "output_type": "stream",
     "text": [
      "Total data points:  506\n",
      "[ 24.   21.6  34.7  33.4  36.2  28.7  22.9  27.1  16.5  18.9  15.   18.9\n",
      "  21.7  20.4  18.2  19.9  23.1  17.5  20.2  18.2  13.6  19.6  15.2  14.5\n",
      "  15.6  13.9  16.6  14.8  18.4  21.   12.7  14.5  13.2  13.1  13.5  18.9\n",
      "  20.   21.   24.7  30.8  34.9  26.6  25.3  24.7  21.2  19.3  20.   16.6\n",
      "  14.4  19.4  19.7  20.5  25.   23.4  18.9  35.4  24.7  31.6  23.3  19.6\n",
      "  18.7  16.   22.2  25.   33.   23.5  19.4  22.   17.4  20.9  24.2  21.7\n",
      "  22.8  23.4  24.1  21.4  20.   20.8  21.2  20.3  28.   23.9  24.8  22.9\n",
      "  23.9  26.6  22.5  22.2  23.6  28.7  22.6  22.   22.9  25.   20.6  28.4\n",
      "  21.4  38.7  43.8  33.2  27.5  26.5  18.6  19.3  20.1  19.5  19.5  20.4\n",
      "  19.8  19.4  21.7  22.8  18.8  18.7  18.5  18.3  21.2  19.2  20.4  19.3\n",
      "  22.   20.3  20.5  17.3  18.8  21.4  15.7  16.2  18.   14.3  19.2  19.6\n",
      "  23.   18.4  15.6  18.1  17.4  17.1  13.3  17.8  14.   14.4  13.4  15.6\n",
      "  11.8  13.8  15.6  14.6  17.8  15.4  21.5  19.6  15.3  19.4  17.   15.6\n",
      "  13.1  41.3  24.3  23.3  27.   50.   50.   50.   22.7  25.   50.   23.8\n",
      "  23.8  22.3  17.4  19.1  23.1  23.6  22.6  29.4  23.2  24.6  29.9  37.2\n",
      "  39.8  36.2  37.9  32.5  26.4  29.6  50.   32.   29.8  34.9  37.   30.5\n",
      "  36.4  31.1  29.1  50.   33.3  30.3  34.6  34.9  32.9  24.1  42.3  48.5\n",
      "  50.   22.6  24.4  22.5  24.4  20.   21.7  19.3  22.4  28.1  23.7  25.\n",
      "  23.3  28.7  21.5  23.   26.7  21.7  27.5  30.1  44.8  50.   37.6  31.6\n",
      "  46.7  31.5  24.3  31.7  41.7  48.3  29.   24.   25.1  31.5  23.7  23.3\n",
      "  22.   20.1  22.2  23.7  17.6  18.5  24.3  20.5  24.5  26.2  24.4  24.8\n",
      "  29.6  42.8  21.9  20.9  44.   50.   36.   30.1  33.8  43.1  48.8  31.\n",
      "  36.5  22.8  30.7  50.   43.5  20.7  21.1  25.2  24.4  35.2  32.4  32.\n",
      "  33.2  33.1  29.1  35.1  45.4  35.4  46.   50.   32.2  22.   20.1  23.2\n",
      "  22.3  24.8  28.5  37.3  27.9  23.9  21.7  28.6  27.1  20.3  22.5  29.\n",
      "  24.8  22.   26.4  33.1  36.1  28.4  33.4  28.2  22.8  20.3  16.1  22.1\n",
      "  19.4  21.6  23.8  16.2  17.8  19.8  23.1  21.   23.8  23.1  20.4  18.5\n",
      "  25.   24.6  23.   22.2  19.3  22.6  19.8  17.1  19.4  22.2  20.7  21.1\n",
      "  19.5  18.5  20.6  19.   18.7  32.7  16.5  23.9  31.2  17.5  17.2  23.1\n",
      "  24.5  26.6  22.9  24.1  18.6  30.1  18.2  20.6  17.8  21.7  22.7  22.6\n",
      "  25.   19.9  20.8  16.8  21.9  27.5  21.9  23.1  50.   50.   50.   50.\n",
      "  50.   13.8  13.8  15.   13.9  13.3  13.1  10.2  10.4  10.9  11.3  12.3\n",
      "   8.8   7.2  10.5   7.4  10.2  11.5  15.1  23.2   9.7  13.8  12.7  13.1\n",
      "  12.5   8.5   5.    6.3   5.6   7.2  12.1   8.3   8.5   5.   11.9  27.9\n",
      "  17.2  27.5  15.   17.2  17.9  16.3   7.    7.2   7.5  10.4   8.8   8.4\n",
      "  16.7  14.2  20.8  13.4  11.7   8.3  10.2  10.9  11.    9.5  14.5  14.1\n",
      "  16.1  14.3  11.7  13.4   9.6   8.7   8.4  12.8  10.5  17.1  18.4  15.4\n",
      "  10.8  11.8  14.9  12.6  14.1  13.   13.4  15.2  16.1  17.8  14.9  14.1\n",
      "  12.7  13.5  14.9  20.   16.4  17.7  19.5  20.2  21.4  19.9  19.   19.1\n",
      "  19.1  20.1  19.9  19.6  23.2  29.8  13.8  13.3  16.7  12.   14.6  21.4\n",
      "  23.   23.7  25.   21.8  20.6  21.2  19.1  20.6  15.2   7.    8.1  13.6\n",
      "  20.1  21.8  24.5  23.1  19.7  18.3  21.2  17.5  16.8  22.4  20.6  23.9\n",
      "  22.   11.9]\n"
     ]
    }
   ],
   "source": [
    "# Se abre el fichero de datos\n",
    "data = np.loadtxt(\"housing.data\")\n",
    "# Se separa la última fila, que contendrá los valores correctos\n",
    "target = data[:,-1]\n",
    "print 'Total data points: ', len(target)\n",
    "print target.T"
   ]
  },
  {
   "cell_type": "markdown",
   "metadata": {},
   "source": [
    "Con los datos preparados, se debe encontrar la media de los resultados, y despues encontrar el MSE utilizando una prediccion constante."
   ]
  },
  {
   "cell_type": "code",
   "execution_count": 3,
   "metadata": {
    "collapsed": false
   },
   "outputs": [
    {
     "name": "stdout",
     "output_type": "stream",
     "text": [
      "La media es 22.5328063241\n"
     ]
    }
   ],
   "source": [
    "# Se calcula la media de los datos de salida\n",
    "mean_value = sum(target)/len(target)\n",
    "print 'La media es', mean_value"
   ]
  },
  {
   "cell_type": "code",
   "execution_count": 4,
   "metadata": {
    "collapsed": false
   },
   "outputs": [],
   "source": [
    "# Para calcular Theta, se definen unos comandos para reducir los comandos \n",
    "# que se obtienen desde la librería numpy\n",
    "dot = np.dot\n",
    "inv = np.linalg.inv\n",
    "\n",
    "# Se inicializa toda la variable de X con unos.\n",
    "X = np.ones((len(data),1))\n",
    "\n",
    "# Utilizando estos valores, se calcula Theta utilizando la formula:\n",
    "# Theta = (X^T*X)^-1 * X^T*y\n",
    "# sustituyendo queda\n",
    "\n",
    "Theta = dot(inv(dot(X.T,X)),dot(X.T,target))"
   ]
  },
  {
   "cell_type": "markdown",
   "metadata": {},
   "source": [
    "Para calcular el MSE se va a definir una función que realizará el calculo, porque durante el ejercicio se va a utilizar muchas veces"
   ]
  },
  {
   "cell_type": "code",
   "execution_count": 5,
   "metadata": {
    "collapsed": false
   },
   "outputs": [
    {
     "name": "stdout",
     "output_type": "stream",
     "text": [
      "Resultado Q2) El MSE es  84.4195561562\n"
     ]
    }
   ],
   "source": [
    "# Función para calcular el MSE\n",
    "# La formula para calcula el MSE es:\n",
    "# MSE = sum(y - X*Theta)²/N\n",
    "def MSE(Y,X,THETA):\n",
    "    MSE = sum((Y-dot(X,THETA))**2) / len(Y)\n",
    "    return MSE\n",
    "\n",
    "# Se calcula el MSE\n",
    "MSE_Q2 = MSE(target,X, Theta)\n",
    "\n",
    "print 'Resultado Q2) El MSE es ', MSE_Q2"
   ]
  },
  {
   "cell_type": "markdown",
   "metadata": {
    "collapsed": true
   },
   "source": [
    "- **Q3**) Hay que dividir los datos por la mitad, la mitad superior será para entrenamiento, y la parte inferior para testear"
   ]
  },
  {
   "cell_type": "code",
   "execution_count": 6,
   "metadata": {
    "collapsed": false
   },
   "outputs": [],
   "source": [
    "# Se dividen los datos en dos partes\n",
    "\n",
    "# Primero se crean los indices de los dos margenes de valores\n",
    "Train_Rows = len(data)/2\n",
    "Test_Rows = len(data) - Train_Rows\n",
    "\n",
    "# Ahora se dividen los datos en dos partes, entrenamiento y test\n",
    "Train_data = data[:Train_Rows,:-1]\n",
    "Test_data = data[Test_Rows:,:-1]\n",
    "\n",
    "#Por último se dividen los resultados en dos grupos\n",
    "Train_result = data[:Train_Rows,-1]\n",
    "Test_result = data[Test_Rows:,-1]"
   ]
  },
  {
   "cell_type": "markdown",
   "metadata": {},
   "source": [
    "El siguiente paso es generar entrenar el *Linear regression* para cada una de las columnas del *data set*, con el termino de bias."
   ]
  },
  {
   "cell_type": "code",
   "execution_count": 21,
   "metadata": {
    "collapsed": false
   },
   "outputs": [
    {
     "name": "stdout",
     "output_type": "stream",
     "text": [
      "Q3.- Los resultados del MSE con los datos de entrenamiento es:\n",
      "\n",
      "[65.773395404381446, 62.184864129384593, 60.202946298313748, 69.240375468625416, 61.545279056417804, 15.935147920571643, 61.427495917253601, 68.000623079838491, 69.149359376563524, 65.435881603038396, 59.750972582605655, 66.040752768311762, 34.380755775897249]\n",
      "\n",
      "Q3.- Los resultados del MSE con los datos de test es:\n",
      "\n",
      "[873.51687362382029, 91.933794664840434, 74.746111965988717, 105.20352304376991, 80.160126225464296, 78.055634425305939, 88.955360723285239, 97.463242190867049, 144.90523084960057, 67.51748098172564, 72.507163330551379, 86.449500143875326, 43.343723595296474]\n"
     ]
    }
   ],
   "source": [
    "# Se crea una matriz para guardar los valores del MSE de los \n",
    "# datos de entrenamiento \n",
    "MSE_Train_Result = []\n",
    "\n",
    "# Se crea una matriz para guardar los valores del MSE de los \n",
    "# datos de test\n",
    "MSE_Test_Result = []\n",
    "\n",
    "# Se crea un bucle obtener todos los valores\n",
    "for i in range(0,len(data[0])-1):\n",
    "    # Se añade la columna a los datos de entreno\n",
    "    X_train = np.hstack((X[:Train_Rows],Train_data[:,i].reshape(Train_Rows,1)))\n",
    "    \n",
    "    # Se añaden la columna a los datos de test\n",
    "    X_test = np.hstack((X[Test_Rows:],Test_data[:,i].reshape(Test_Rows,1)))\n",
    "    \n",
    "    # Ahora se obtiene el valor de Theta con los valores de entrenamiento\n",
    "    theta_value = lstsq(X_train,Train_result)[0]\n",
    "    \n",
    "    #Se calcula el MSE para los valores de entrenamiento\n",
    "    MSE_Train_Result.append(MSE(Train_result,X_train,theta_value))\n",
    "    \n",
    "    #Se calcula el MSE para los valores de test\n",
    "    MSE_Test_Result.append(MSE(Test_result,X_test,theta_value))\n",
    "\n",
    "# Se imprimen los resultados de los MSE\n",
    "print 'Q3.- Los resultados del MSE con los datos de entrenamiento es:\\n'\n",
    "print MSE_Train_Result\n",
    "print '\\nQ3.- Los resultados del MSE con los datos de test es:\\n'\n",
    "print MSE_Test_Result"
   ]
  },
  {
   "cell_type": "markdown",
   "metadata": {},
   "source": [
    "El siguiente paso es calcular el valor *most informative* de los valores de entrenamiento, y el mejor y peor valor para los valores de test"
   ]
  },
  {
   "cell_type": "code",
   "execution_count": 25,
   "metadata": {
    "collapsed": false
   },
   "outputs": [
    {
     "name": "stdout",
     "output_type": "stream",
     "text": [
      "Q3.- El valor más informativo es el  5 , con un MSE de  15.9351479206\n",
      "Q3.- El mejor valor es  12 , con un MSE de  43.3437235953\n",
      "Q3.- El peor valor es  0 , con un MSE de  873.516873624\n"
     ]
    }
   ],
   "source": [
    "# Se calcula el indice del valor mínimo de los valores de entrenamiento, que será el valor \n",
    "# más informativo\n",
    "Train_index_min = MSE_Train_Result.index(min(MSE_Train_Result))\n",
    "print 'Q3.- El valor más informativo es el ', Train_index_min,', con un MSE de ', MSE_Train_Result[Train_index_min]\n",
    "\n",
    "# Se calcula el indice del valor mínimo de los valores de test, que será el valor \n",
    "# mejor valor\n",
    "Test_index_min = MSE_Test_Result.index(min(MSE_Test_Result))\n",
    "print 'Q3.- El mejor valor es ', Test_index_min,', con un MSE de ', MSE_Test_Result[Test_index_min]\n",
    "\n",
    "# Se calcula el indice del valor máximo de los valores de test, que será el valor \n",
    "# peor valor\n",
    "Test_index_max = MSE_Test_Result.index(max(MSE_Test_Result))\n",
    "print 'Q3.- El peor valor es ', Test_index_max,', con un MSE de ', MSE_Test_Result[Test_index_max]\n"
   ]
  },
  {
   "cell_type": "markdown",
   "metadata": {},
   "source": [
    "Para finalizar, se va debe cacluar el coeficiente de deteminación R² de los valores de Test"
   ]
  },
  {
   "cell_type": "code",
   "execution_count": 30,
   "metadata": {
    "collapsed": false
   },
   "outputs": [
    {
     "name": "stdout",
     "output_type": "stream",
     "text": [
      "Q3.- El Coeficiente de determinación R² de los valores de test es  [-8.3637876   0.01450269  0.19874849 -0.12774404  0.1407122   0.16327159\n",
      "  0.04643044 -0.044771   -0.5533321   0.27623682  0.22274921  0.07329236\n",
      "  0.53537083]\n"
     ]
    }
   ],
   "source": [
    "# La formula para calcular R² = 1 - FVU(f), donde FVU(f) = MSE(f)/Var(y),\n",
    "# por tanto, hay que comenzar calculando la media de los valores\n",
    "R2_Mean = sum(Test_result)/Test_Rows\n",
    "\n",
    "# Y contunuar calculando la variancia\n",
    "R2_var = sum((R2_Mean - Test_result)**2)/Test_Rows\n",
    "\n",
    "# Con todo esto ya se puede calcular el valor R²\n",
    "R2 = 1 - (MSE_Test_Result/R2_var)\n",
    "\n",
    "# Se imprime el resultado\n",
    "print 'Q3.- El Coeficiente de determinación R² de los valores de test es ', R2"
   ]
  },
  {
   "cell_type": "markdown",
   "metadata": {},
   "source": [
    "- **Q4**) "
   ]
  },
  {
   "cell_type": "code",
   "execution_count": null,
   "metadata": {
    "collapsed": true
   },
   "outputs": [],
   "source": []
  }
 ],
 "metadata": {
  "anaconda-cloud": {},
  "kernelspec": {
   "display_name": "Python [conda root]",
   "language": "python",
   "name": "conda-root-py"
  },
  "language_info": {
   "codemirror_mode": {
    "name": "ipython",
    "version": 2
   },
   "file_extension": ".py",
   "mimetype": "text/x-python",
   "name": "python",
   "nbconvert_exporter": "python",
   "pygments_lexer": "ipython2",
   "version": "2.7.12"
  }
 },
 "nbformat": 4,
 "nbformat_minor": 1
}
