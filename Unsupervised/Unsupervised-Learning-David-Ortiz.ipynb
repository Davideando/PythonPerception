{
 "cells": [
  {
   "cell_type": "markdown",
   "metadata": {},
   "source": [
    "## K-Means\n",
    "\n",
    "- **Q1** Se tiene que implementar un algoritmo K-Means siguiendo los pasos del pseudo código"
   ]
  },
  {
   "cell_type": "code",
   "execution_count": 46,
   "metadata": {
    "collapsed": false
   },
   "outputs": [],
   "source": [
    "# Añaden las librerias para el proyecto\n",
    "\n",
    "# Import para el numpy\n",
    "import numpy as np\n",
    "\n",
    "# Librería para los Plots\n",
    "import matplotlib.pyplot as plt"
   ]
  },
  {
   "cell_type": "markdown",
   "metadata": {},
   "source": [
    "Implementación del algoritmo de k-Means"
   ]
  },
  {
   "cell_type": "code",
   "execution_count": 47,
   "metadata": {
    "collapsed": false
   },
   "outputs": [],
   "source": [
    "# Q1.- Esta es mi implementación del algoritmo K-Means\n",
    "\n",
    "# Algoritmo K-Means\n",
    "def kMeans(X, K, Iter_max):\n",
    "    # Se inicializa el valor de los centroides cogiendo 3 valores aleatorios dentro del dataset \n",
    "    # que se proporciona.\n",
    "    centroide = X[np.random.choice(np.arange(len(X)), K), :]\n",
    "    # Se crea una matriz de del mismo orden del centroide para compararla y así poder detectar cuando\n",
    "    # el sistema converge.\n",
    "    centroide_old = np.zeros([K,len(X)])\n",
    "    # Variables de control de convergencia\n",
    "    converge = False\n",
    "    iteracion = 0;\n",
    "    # Se inicializa un bucle de convergencia. Se irá ejecutando hasta que se llegue al máximo número\n",
    "    # de iteraciones o cuando el valor actual sea igual al valor anterior, lo que querrá decir que el \n",
    "    # valor es el mejor que se puede encontrar.\n",
    "    while converge == False:\n",
    "        # Realizo un código para asignar el centroide más cercano a cada punto\n",
    "        ## Primero me recorro todo el dataset\n",
    "        C_1 = [] # Valor para calcular los indices del centroide\n",
    "        for data in X:\n",
    "            # Se compara el punto con los valores del centroide para obtener el valor más cercano\n",
    "            C_temp = []\n",
    "            for cent in centroide:\n",
    "                C_temp.append(np.dot(data-cent,data-cent))\n",
    "            # Se asigna a la posición del centroide más cercano\n",
    "            C_1.append(np.argmin(C_temp))\n",
    "        C = np.array(C_1) # Valores transformados a array\n",
    "        # Se recalculan los valores del centroide, realizando una media de todos los valores de \n",
    "        # cercanos a cada punto.\n",
    "        centroide = [X[C == k].mean(axis = 0) for k in range(K)]\n",
    "        # Se sale del bucle si las variables han convergido, es decir, si se ha llegado\n",
    "        # al máximo de iteraciones o la variable encontrada es igual a la anterior\n",
    "        if (iteracion == Iter_max) or (np.array_equal(centroide,centroide_old)):\n",
    "            converge = True\n",
    "        else:\n",
    "            iteracion += 1\n",
    "            centroide_old = centroide\n",
    "    # La función devuelve le centroide, el array C con los indices y el número de iteraciones que\n",
    "    # se han tenido que hacer para llegar al resultado óptimo, o el máximo si no se ha llegado hasta \n",
    "    # el final o no se ha llegado\n",
    "    return np.array(centroide) , C, iteracion"
   ]
  },
  {
   "cell_type": "markdown",
   "metadata": {},
   "source": [
    "- **Q2** Probar el algoritmo K-Means realizado con K = 3 y con las dos primeras dimensiones del dataset iris. para despues ir probandolo con 3 y 4."
   ]
  },
  {
   "cell_type": "code",
   "execution_count": 48,
   "metadata": {
    "collapsed": false
   },
   "outputs": [],
   "source": [
    "# Se cargan los datos del archivo data.iris\n",
    "data_Iris = np.array([map(float,x.split(',')[:-1]) for x in open('iris.data') if x.strip()])"
   ]
  },
  {
   "cell_type": "code",
   "execution_count": 49,
   "metadata": {
    "collapsed": false
   },
   "outputs": [],
   "source": [
    "# Se crean las variables para 2 y 3 columnas\n",
    "\n",
    "## 2 columnas\n",
    "data_Iris_2 = data_Iris[:,:2]\n",
    "\n",
    "## 3 columnas\n",
    "data_Iris_3 = data_Iris[:,:3]\n"
   ]
  },
  {
   "cell_type": "code",
   "execution_count": 52,
   "metadata": {
    "collapsed": false
   },
   "outputs": [
    {
     "name": "stdout",
     "output_type": "stream",
     "text": [
      "Q2.- Se ha obtenido en  13  los siguientes valores de K-Means:\n",
      "[[ 5.77358491  2.69245283]\n",
      " [ 5.006       3.418     ]\n",
      " [ 6.81276596  3.07446809]]\n"
     ]
    },
    {
     "data": {
      "image/png": "[encoded data removed]",
      "text/plain": [
       "<matplotlib.figure.Figure at 0xaba369ec>"
      ]
     },
     "metadata": {},
     "output_type": "display_data"
    }
   ],
   "source": [
    "# Se inicializan las variables del bucle\n",
    "\n",
    "## Se asignan el conjunto de datos con dos columnas\n",
    "X = data_Iris_2\n",
    "\n",
    "## Se inicializa la K a 3\n",
    "K = 3\n",
    "\n",
    "## Se definen el numero maximo de iteraciones como 100\n",
    "iteraciones = 100\n",
    "\n",
    "# Se ejecuta el algoritmo K-Means\n",
    "centroides, C, iteraciones = kMeans(X, K, iteraciones)\n",
    "\n",
    "# Se dibujan los resultados en un plot\n",
    "plt.title(\"Q2.- K-Means Iris data Accuracy 2 parameters\")\n",
    "plt.xlabel(\"Longitud del sepalo\")\n",
    "plt.ylabel(\"Anchura del sepalo\")\n",
    "\n",
    "# Se agregan al plot los puntos de distintos colores, dependiendo del centroide al que\n",
    "# han sido asignados\n",
    "plt.plot(X[C == 0, 0], X[C == 0, 1], '*b',\n",
    "         X[C == 1, 0], X[C == 1, 1], '*r',\n",
    "         X[C == 2, 0], X[C == 2, 1], '*g')\n",
    "\n",
    "# Se agregan las posiciones de los tres centroides\n",
    "plt.plot(centroides[:,0],centroides[:,1],'*m',markersize=20)\n",
    "\n",
    "# Se dibuja el plot\n",
    "plt.draw()\n",
    "\n",
    "# Resultado del Q2 para un dataset de 2 columnas\n",
    "print 'Q2.- Se ha obtenido en ', iteraciones, ' los siguientes valores de K-Means:'\n",
    "print centroides"
   ]
  },
  {
   "cell_type": "code",
   "execution_count": null,
   "metadata": {
    "collapsed": true
   },
   "outputs": [],
   "source": [
    "# "
   ]
  },
  {
   "cell_type": "code",
   "execution_count": null,
   "metadata": {
    "collapsed": true
   },
   "outputs": [],
   "source": []
  }
 ],
 "metadata": {
  "anaconda-cloud": {},
  "kernelspec": {
   "display_name": "Python [conda root]",
   "language": "python",
   "name": "conda-root-py"
  },
  "language_info": {
   "codemirror_mode": {
    "name": "ipython",
    "version": 2
   },
   "file_extension": ".py",
   "mimetype": "text/x-python",
   "name": "python",
   "nbconvert_exporter": "python",
   "pygments_lexer": "ipython2",
   "version": "2.7.12"
  }
 },
 "nbformat": 4,
 "nbformat_minor": 1
}
