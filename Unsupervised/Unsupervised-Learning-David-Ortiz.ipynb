{
 "cells": [
  {
   "cell_type": "markdown",
   "metadata": {},
   "source": [
    "## K-Means\n",
    "\n",
    "- **Q1** Se tiene que implementar un algoritmo K-Means siguiendo los pasos del pseudo código"
   ]
  },
  {
   "cell_type": "code",
   "execution_count": 1,
   "metadata": {
    "collapsed": false
   },
   "outputs": [],
   "source": [
    "# Añaden las librerias para el proyecto\n",
    "\n",
    "# Import para el numpy\n",
    "import numpy as np\n",
    "\n",
    "# Librería para los Plots\n",
    "import matplotlib.pyplot as plt"
   ]
  },
  {
   "cell_type": "markdown",
   "metadata": {},
   "source": [
    "Implementación del algoritmo de k-Means"
   ]
  },
  {
   "cell_type": "code",
   "execution_count": 2,
   "metadata": {
    "collapsed": false
   },
   "outputs": [],
   "source": [
    "# Q1.- Esta es mi implementación del algoritmo K-Means\n",
    "\n",
    "# Algoritmo K-Means\n",
    "def kMeans(X, K, Iter_max):\n",
    "    # Se inicializa el valor de los centroides cogiendo 3 valores aleatorios dentro del dataset \n",
    "    # que se proporciona.\n",
    "    centroide = X[np.random.choice(np.arange(len(X)), K), :]\n",
    "    # Se crea una matriz del mismo orden del centroide para compararla y así poder detectar cuando\n",
    "    # el sistema converge.\n",
    "    centroide_old = np.zeros([K,len(X)])\n",
    "    # Variables de control de convergencia\n",
    "    converge = False\n",
    "    iteracion = 0;\n",
    "    # Se inicializa un bucle de convergencia. Se irá ejecutando hasta que se llegue al máximo número\n",
    "    # de iteraciones o cuando el valor actual sea igual al valor anterior, lo que querrá decir que el \n",
    "    # valor es el mejor que se puede encontrar.\n",
    "    while converge == False:\n",
    "        # Realizo un código para asignar el centroide más cercano a cada punto\n",
    "        ## Primero me recorro todo el dataset\n",
    "        C_1 = [] # Valor para calcular los indices del centroide\n",
    "        for data in X:\n",
    "            # Se compara el punto con los valores del centroide para obtener el valor más cercano\n",
    "            C_temp = []\n",
    "            for cent in centroide:\n",
    "                C_temp.append(np.dot(data-cent,data-cent))\n",
    "            # Se asigna a la posición del centroide más cercano\n",
    "            C_1.append(np.argmin(C_temp))\n",
    "        C = np.array(C_1) # Valores transformados a array\n",
    "        # Se recalculan los valores del centroide, realizando una media de todos los valores de \n",
    "        # cercanos a cada punto.\n",
    "        centroide = [X[C == k].mean(axis = 0) for k in range(K)]\n",
    "        # Se sale del bucle si las variables han convergido, es decir, si se ha llegado\n",
    "        # al máximo de iteraciones o la variable encontrada es igual a la anterior\n",
    "        if (iteracion == Iter_max) or (np.array_equal(centroide,centroide_old)):\n",
    "            converge = True\n",
    "        else:\n",
    "            iteracion += 1\n",
    "            centroide_old = centroide\n",
    "    # La función devuelve le centroide, el array C con los indices y el número de iteraciones que\n",
    "    # se han tenido que hacer para llegar al resultado óptimo, o el máximo si no se ha llegado hasta \n",
    "    # el final o no se ha llegado\n",
    "    return np.array(centroide) , C, iteracion"
   ]
  },
  {
   "cell_type": "markdown",
   "metadata": {},
   "source": [
    "- **Q2** Probar el algoritmo K-Means realizado con K = 3 y con las dos primeras dimensiones del dataset iris. para despues ir probandolo con 3 y 4."
   ]
  },
  {
   "cell_type": "code",
   "execution_count": 3,
   "metadata": {
    "collapsed": false
   },
   "outputs": [],
   "source": [
    "# Se cargan los datos del archivo data.iris\n",
    "data_Iris = np.array([map(float,x.split(',')[:-1]) for x in open('iris.data') if x.strip()])\n",
    "\n",
    "# Se crean las variables para 2 y 3 columnas\n",
    "\n",
    "## 2 columnas\n",
    "data_Iris_2 = data_Iris[:,:2]"
   ]
  },
  {
   "cell_type": "code",
   "execution_count": 4,
   "metadata": {
    "collapsed": false
   },
   "outputs": [
    {
     "name": "stdout",
     "output_type": "stream",
     "text": [
      "Q2.- Para el dataset de 2 columnas, se ha obtenido en  4  los siguientes centroides:\n",
      "\n",
      "[[ 6.81276596  3.07446809]\n",
      " [ 5.77358491  2.69245283]\n",
      " [ 5.006       3.418     ]]\n",
      "\n",
      "Q2.- En el plot los puntos redondos son los valores del data set y las estrellas amarillas los centroides.\n"
     ]
    }
   ],
   "source": [
    "# Se inicializan las variables del bucle\n",
    "\n",
    "## Se asignan el conjunto de datos con dos columnas\n",
    "X = data_Iris_2\n",
    "\n",
    "## Se inicializa la K a 3\n",
    "K = 3\n",
    "\n",
    "## Se definen el numero maximo de iteraciones como 100\n",
    "iteraciones = 100\n",
    "\n",
    "# Se ejecuta el algoritmo K-Means\n",
    "centroides, C, iteraciones = kMeans(X, K, iteraciones)\n",
    "\n",
    "# Se dibujan los resultados en un plot\n",
    "plt.title(\"Q2.- K-Means Iris data Accuracy 2 parameters\")\n",
    "plt.xlabel(\"Longitud del sepalo\")\n",
    "plt.ylabel(\"Anchura del sepalo\")\n",
    "\n",
    "# Se agregan al plot los puntos de distintos colores, dependiendo del centroide al que\n",
    "# han sido asignados\n",
    "plt.plot(X[C == 0, 0], X[C == 0, 1], 'ob',\n",
    "         X[C == 1, 0], X[C == 1, 1], 'or',\n",
    "         X[C == 2, 0], X[C == 2, 1], 'og')\n",
    "\n",
    "# Se agregan las posiciones de los tres centroides\n",
    "plt.plot(centroides[:,0],centroides[:,1],'*y',markersize=20)\n",
    "\n",
    "# Se dibuja el plot\n",
    "plt.draw()\n",
    "\n",
    "# Resultado del Q2 para un dataset de 2 columnas\n",
    "print 'Q2.- Para el dataset de 2 columnas, se ha obtenido en ', iteraciones, ' los siguientes centroides:\\n'\n",
    "print centroides\n",
    "print '\\nQ2.- En el plot los puntos redondos son los valores del data set y las estrellas amarillas los centroides.'"
   ]
  },
  {
   "cell_type": "code",
   "execution_count": 5,
   "metadata": {
    "collapsed": false
   },
   "outputs": [
    {
     "name": "stdout",
     "output_type": "stream",
     "text": [
      "Q2.- Se calculan los MSE para el dataset de 2 parametros\n",
      "\n",
      "Q2.- El MSE del primer centroide es:  0.13427342689\n",
      "Q2.- El MSE del segundo centroide es:  0.106603773585\n",
      "Q2.- El MSE del tercer centroide es:  0.13202\n",
      "Q2.- El MSE total para un dataset de 2 parametros es: 0.123745673759\n",
      "\n",
      "\n"
     ]
    }
   ],
   "source": [
    "# Se define una función para calcular el MSE\n",
    "# El calculo del MSE para 2 columnas es\n",
    "# MSE = (Suma distancias en rango 1)² + (suma distancias en rango 2)²/(numero de filas * numero columnas)\n",
    "def MSE_Centroide(Y,X):\n",
    "    Rango = Y.shape[1]\n",
    "    # Se crea una variable el valor del centroide de la misma longitud que Y\n",
    "    X_Full = np.empty([len(Y),Rango])\n",
    "    # Rellenar con los valores del centroide\n",
    "    for i in range(len(X_Full)):\n",
    "        X_Full[i] = X\n",
    "    MSE = 0\n",
    "    # Se calcula el MSE en todas las columnas y se suma\n",
    "    for i in range(Rango):\n",
    "        MSE += sum((Y[:,i]-X_Full[:,i])**2) / len(Y)\n",
    "    # Se devuelve el valor dividido por el número de columnas\n",
    "    return MSE / Rango\n",
    "\n",
    "def MSE_Total(Y,X):\n",
    "    MSE = 0\n",
    "    # Se calcula el MSE en todas las columnas y se suma\n",
    "    for i in range(Y.shape[1]):\n",
    "        MSE += sum((Y[:,i]-X[:,i])**2) / len(Y)\n",
    "    # Se devuelve el valor dividido por el número de columnas\n",
    "    return MSE / Y.shape[1]\n",
    "\n",
    "# Resultados para el calculo del primer MSE\n",
    "print 'Q2.- Se calculan los MSE para el dataset de 2 parametros\\n'\n",
    "\n",
    "# Se calcula el MSE para el primer Centroide\n",
    "MSE_2C_1 = MSE_Centroide(X[C==0], centroides[0])\n",
    "print 'Q2.- El MSE del primer centroide es: ', MSE_2C_1\n",
    "\n",
    "MSE_2C_2 = MSE_Centroide(X[C==1], centroides[1])\n",
    "print 'Q2.- El MSE del segundo centroide es: ', MSE_2C_2\n",
    "\n",
    "MSE_2C_3 = MSE_Centroide(X[C==2], centroides[2])\n",
    "print 'Q2.- El MSE del tercer centroide es: ', MSE_2C_3\n",
    "\n",
    "# Para calcular el MSE global, se debe crear un array con los valores del centroide\n",
    "# en la fila que toquen\n",
    "X_Total = np.empty([len(X),X.shape[1]])\n",
    "for i in range(len(X_Total)):\n",
    "    X_Total[i] = centroides[C[i]]\n",
    "\n",
    "MSE_2C_Total = MSE_Total(X, X_Total)\n",
    "print 'Q2.- El MSE total para un dataset de 2 parametros es:', MSE_2C_Total\n",
    "print '\\n'"
   ]
  },
  {
   "cell_type": "markdown",
   "metadata": {},
   "source": [
    "Ahora, para comprobar como de buenas han sido los centroides, se calcula la diferencia entre lo calculado y la media de los valores en cada grupo"
   ]
  },
  {
   "cell_type": "code",
   "execution_count": 6,
   "metadata": {
    "collapsed": false
   },
   "outputs": [
    {
     "name": "stdout",
     "output_type": "stream",
     "text": [
      "Q2.- Se calculan las distancias con los valores centrales calculados para el dataset de 2 parametros\n",
      "\n",
      "Q2.-\tEl valor del primer centroide es  [ 6.81276596  3.07446809]\n",
      "\tEl centro calculado es  [ 6.81276596  3.07446809]\n",
      "\ty la diferencia es  [ 0.  0.]\n",
      "\n",
      "Q2.-\tEl valor del segundo centroide es  [ 5.77358491  2.69245283]\n",
      "\tEl centro calculado es  [ 5.77358491  2.69245283]\n",
      "\ty la diferencia es  [ 0.  0.]\n",
      "\n",
      "Q2.-\tEl valor del tercer centroide es  [ 5.006  3.418]\n",
      "\tEl centro calculado es  [ 5.006  3.418]\n",
      "\ty la diferencia es  [ 0.  0.]\n"
     ]
    }
   ],
   "source": [
    "# Se comienza calculando la media de los valores, para saber en que posición esta el centro\n",
    "print 'Q2.- Se calculan las distancias con los valores centrales calculados para el dataset de 2 parametros\\n'\n",
    "\n",
    "## Comienzo por el primer centroide\n",
    "X1_2C_Center = sum(X[C==0])/len(X[C==0])\n",
    "\n",
    "print 'Q2.-\\tEl valor del primer centroide es ', centroides[0]\n",
    "print '\\tEl centro calculado es ', X1_2C_Center\n",
    "print '\\ty la diferencia es ', X1_2C_Center - centroides[0]\n",
    "\n",
    "## Segundo centroide centroide\n",
    "X2_2C_Center = sum(X[C==1])/len(X[C==1])\n",
    "\n",
    "print '\\nQ2.-\\tEl valor del segundo centroide es ', centroides[1]\n",
    "print '\\tEl centro calculado es ', X2_2C_Center\n",
    "print '\\ty la diferencia es ', X2_2C_Center - centroides[1]\n",
    "\n",
    "## Por último el tercer centroide\n",
    "X3_2C_Center = sum(X[C==2])/len(X[C==2])\n",
    "\n",
    "print '\\nQ2.-\\tEl valor del tercer centroide es ', centroides[2]\n",
    "print '\\tEl centro calculado es ', X3_2C_Center\n",
    "print '\\ty la diferencia es ', X3_2C_Center - centroides[2]\n"
   ]
  },
  {
   "cell_type": "code",
   "execution_count": 7,
   "metadata": {
    "collapsed": false
   },
   "outputs": [
    {
     "name": "stdout",
     "output_type": "stream",
     "text": [
      "Q2.- Como se puede ver la predicción y el cálculo es igual, por tanto la predición es muy buena\n"
     ]
    }
   ],
   "source": [
    "print 'Q2.- Como se puede ver la predicción y el cálculo es igual, por tanto la predición es muy buena'"
   ]
  },
  {
   "cell_type": "markdown",
   "metadata": {},
   "source": [
    "Se repite todo para el conjunto de datos completo."
   ]
  },
  {
   "cell_type": "code",
   "execution_count": 8,
   "metadata": {
    "collapsed": false
   },
   "outputs": [
    {
     "name": "stdout",
     "output_type": "stream",
     "text": [
      "Q2.- Para el data set completo se ha obtenido en  4  los siguientes centroides:\n",
      "\n",
      "[[ 5.9016129   2.7483871   4.39354839  1.43387097]\n",
      " [ 5.006       3.418       1.464       0.244     ]\n",
      " [ 6.85        3.07368421  5.74210526  2.07105263]]\n"
     ]
    }
   ],
   "source": [
    "# Se inicializan las variables del bucle\n",
    "\n",
    "## Se asignan el conjunto de datos con dos columnas\n",
    "X = data_Iris\n",
    "\n",
    "## Se inicializa la K a 3\n",
    "K = 3\n",
    "\n",
    "## Se definen el numero maximo de iteraciones como 100\n",
    "iteraciones = 100\n",
    "\n",
    "# Se ejecuta el algoritmo K-Means\n",
    "centroides, C, iteraciones = kMeans(X, K, iteraciones)\n",
    "\n",
    "# Resultado del Q2 para un dataset de 2 columnas\n",
    "print 'Q2.- Para el data set completo se ha obtenido en ', iteraciones, ' los siguientes centroides:\\n'\n",
    "print centroides"
   ]
  },
  {
   "cell_type": "code",
   "execution_count": 9,
   "metadata": {
    "collapsed": false
   },
   "outputs": [
    {
     "name": "stdout",
     "output_type": "stream",
     "text": [
      "Q2.- Se calculan los MSE para el dataset completo\n",
      "\n",
      "Q2.- El MSE del primer centroide es:  0.160568418314\n",
      "Q2.- El MSE del segundo centroide es:  0.076202\n",
      "Q2.- El MSE del tercer centroide es:  0.157101800554\n",
      "Q2.- El MSE total para un dataset completo es: 0.131568069044\n",
      "\n",
      "\n"
     ]
    }
   ],
   "source": [
    "# Se calcula el MSE para el dataset completo para los 4 valores y el total\n",
    "\n",
    "# Resultados para el calculo del primer MSE\n",
    "print 'Q2.- Se calculan los MSE para el dataset completo\\n'\n",
    "# Se calcula el MSE para el primer Centroide\n",
    "MSE_1 = MSE_Centroide(X[C==0], centroides[0])\n",
    "print 'Q2.- El MSE del primer centroide es: ', MSE_1\n",
    "\n",
    "MSE_2 = MSE_Centroide(X[C==1], centroides[1])\n",
    "print 'Q2.- El MSE del segundo centroide es: ', MSE_2\n",
    "\n",
    "MSE_3 = MSE_Centroide(X[C==2], centroides[2])\n",
    "print 'Q2.- El MSE del tercer centroide es: ', MSE_3\n",
    "\n",
    "# Para calcular el MSE global, se debe crear un array con los valores del centroide\n",
    "# en la fila que toquen\n",
    "X_Total = np.empty([len(X),X.shape[1]])\n",
    "for i in range(len(X_Total)):\n",
    "    X_Total[i] = centroides[C[i]]\n",
    "\n",
    "MSE_Total = MSE_Total(X, X_Total)\n",
    "print 'Q2.- El MSE total para un dataset completo es:', MSE_Total\n",
    "print '\\n'"
   ]
  },
  {
   "cell_type": "code",
   "execution_count": 10,
   "metadata": {
    "collapsed": false
   },
   "outputs": [
    {
     "name": "stdout",
     "output_type": "stream",
     "text": [
      "Q2.- Se calculan las distancias con los valores centrales calculados para el dataset completo\n",
      "\n",
      "Q2.-\tEl valor del primer centroide es  [ 5.9016129   2.7483871   4.39354839  1.43387097]\n",
      "\tEl centro calculado es  [ 5.9016129   2.7483871   4.39354839  1.43387097]\n",
      "\ty la diferencia es  [ 0.  0.  0.  0.]\n",
      "\n",
      "Q2.-\tEl valor del segundo centroide es  [ 5.006  3.418  1.464  0.244]\n",
      "\tEl centro calculado es  [ 5.006  3.418  1.464  0.244]\n",
      "\ty la diferencia es  [ 0.  0.  0.  0.]\n",
      "\n",
      "Q2.-\tEl valor del tercer centroide es  [ 6.85        3.07368421  5.74210526  2.07105263]\n",
      "\tEl centro calculado es  [ 6.85        3.07368421  5.74210526  2.07105263]\n",
      "\ty la diferencia es  [ 0.  0.  0.  0.]\n"
     ]
    }
   ],
   "source": [
    "# Se vuelve a calcular la distancia con la media de valores, en este caso para el dataset completo\n",
    "print 'Q2.- Se calculan las distancias con los valores centrales calculados para el dataset completo\\n'\n",
    "## Comienzo por el primer centroide\n",
    "X1_Center = sum(X[C==0])/len(X[C==0])\n",
    "\n",
    "print 'Q2.-\\tEl valor del primer centroide es ', centroides[0]\n",
    "print '\\tEl centro calculado es ', X1_Center\n",
    "print '\\ty la diferencia es ', X1_Center - centroides[0]\n",
    "\n",
    "## Segundo centroide centroide\n",
    "X2_Center = sum(X[C==1])/len(X[C==1])\n",
    "\n",
    "print '\\nQ2.-\\tEl valor del segundo centroide es ', centroides[1]\n",
    "print '\\tEl centro calculado es ', X2_Center\n",
    "print '\\ty la diferencia es ', X2_Center - centroides[1]\n",
    "\n",
    "## Por último el tercer centroide\n",
    "X3_Center = sum(X[C==2])/len(X[C==2])\n",
    "\n",
    "print '\\nQ2.-\\tEl valor del tercer centroide es ', centroides[2]\n",
    "print '\\tEl centro calculado es ', X3_Center\n",
    "print '\\ty la diferencia es ', X3_Center - centroides[2]"
   ]
  },
  {
   "cell_type": "code",
   "execution_count": 11,
   "metadata": {
    "collapsed": false
   },
   "outputs": [
    {
     "name": "stdout",
     "output_type": "stream",
     "text": [
      "Q2.- Como el anterior caso, la predicción es muy buena, aparece sin error.\n"
     ]
    }
   ],
   "source": [
    "print 'Q2.- Como el anterior caso, la predicción es muy buena, aparece sin error.'"
   ]
  },
  {
   "cell_type": "code",
   "execution_count": null,
   "metadata": {
    "collapsed": true
   },
   "outputs": [],
   "source": []
  }
 ],
 "metadata": {
  "anaconda-cloud": {},
  "kernelspec": {
   "display_name": "Python [conda root]",
   "language": "python",
   "name": "conda-root-py"
  },
  "language_info": {
   "codemirror_mode": {
    "name": "ipython",
    "version": 2
   },
   "file_extension": ".py",
   "mimetype": "text/x-python",
   "name": "python",
   "nbconvert_exporter": "python",
   "pygments_lexer": "ipython2",
   "version": "2.7.12"
  }
 },
 "nbformat": 4,
 "nbformat_minor": 1
}
