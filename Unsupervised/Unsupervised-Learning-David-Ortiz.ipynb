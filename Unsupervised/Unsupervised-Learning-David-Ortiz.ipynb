{
 "cells": [
  {
   "cell_type": "markdown",
   "metadata": {},
   "source": [
    "## K-Means\n",
    "\n",
    "- **Q1** Se tiene que implementar un algoritmo K-Means siguiendo los pasos del pseudo código"
   ]
  },
  {
   "cell_type": "code",
   "execution_count": 57,
   "metadata": {
    "collapsed": false
   },
   "outputs": [],
   "source": [
    "# Añaden las librerias para el proyecto\n",
    "\n",
    "# Import para el numpy\n",
    "import numpy as np\n",
    "\n",
    "# import para el cdist\n",
    "# Imports de la libreria scipy\n",
    "from scipy.spatial.distance import cdist\n",
    "\n",
    "import sys\n",
    "import pylab as plt"
   ]
  },
  {
   "cell_type": "markdown",
   "metadata": {},
   "source": [
    "Implementación del algoritmo de k-Means"
   ]
  },
  {
   "cell_type": "code",
   "execution_count": 163,
   "metadata": {
    "collapsed": false
   },
   "outputs": [],
   "source": [
    "# Algoritmo K-Means\n",
    "def kMeans_2(X, K, maxIters = 100):\n",
    "    # Se inicializa el valor del Centroide, utilizando una función que, apartir de una matriz\n",
    "    # con 150 valores, \n",
    "    centroids_2 = X[np.random.choice(np.arange(len(X)), K), :]\n",
    "    for i in range(maxIters):\n",
    "        # Cluster Assignment step\n",
    "        C_2 = np.array([np.argmin([np.dot(x_i-y_k, x_i-y_k) for y_k in centroids_2]) for x_i in X])\n",
    "        # Move centroids step\n",
    "        centroids_2 = [X[C_2 == k].mean(axis = 0) for k in range(K)]\n",
    "    return np.array(centroids_2) , C_2\n",
    "\n",
    "# Algoritmo K-Means\n",
    "def kMeans(X, K, maxIters = 100):\n",
    "    # Se inicializa el valor de los centroides cogiendo 3 valores aleatorios dentro del dataset \n",
    "    # que se proporciona.\n",
    "    centroide = X[np.random.choice(np.arange(len(X)), K), :]\n",
    "    # Se inicializa un bucle de convergencia. Se irá ejecutando hasta que se llegue al máximo número\n",
    "    # de iteraciones o cuando el valor actual sea igual al valor anterior, lo que querrá decir que el \n",
    "    # valor es el mejor que se puede encontrar.\n",
    "    for i in range(maxIters):\n",
    "        # Realizo un código para asignar el centroide más cercano a cada punto\n",
    "        ## Primero me recorro todo el dataset\n",
    "        C_1 = [] # Valor para calcular los indices del centroide\n",
    "        for data in X:\n",
    "            # Se compara el punto con los valores del centroide para obtener el valor más cercano\n",
    "            C_temp = []\n",
    "            for cent in centroide:\n",
    "                C_temp.append(np.dot(data-cent,data-cent))\n",
    "            C_1.append(np.argmin(C_temp))\n",
    "        C = np.array(C_1) # Valores transformados a array\n",
    "        # Se recalculan los valores del centroide, realizando una media de todos los valores de \n",
    "        # cercanos a cada punto.\n",
    "        centroide = [X[C == k].mean(axis = 0) for k in range(K)]\n",
    "    return np.array(centroide) , C"
   ]
  },
  {
   "cell_type": "markdown",
   "metadata": {},
   "source": [
    "- **Q2** Probar el algoritmo K-Means realizado con K = 3 y con las dos primeras dimensiones del dataset iris. para despues ir probandolo con 3 y 4."
   ]
  },
  {
   "cell_type": "code",
   "execution_count": 164,
   "metadata": {
    "collapsed": false
   },
   "outputs": [],
   "source": [
    "# Se cargan los datos del archivo data.iris\n",
    "data_Iris = np.array([map(float,x.split(',')[:-1]) for x in open('iris.data') if x.strip()])"
   ]
  },
  {
   "cell_type": "code",
   "execution_count": 165,
   "metadata": {
    "collapsed": false
   },
   "outputs": [],
   "source": [
    "# Se crean las variables para 2 y 3 columnas\n",
    "\n",
    "## 2 columnas\n",
    "data_Iris_2 = data_Iris[:,:2]\n",
    "\n",
    "## 3 columnas\n",
    "data_Iris_3 = data_Iris[:,:3]"
   ]
  },
  {
   "cell_type": "code",
   "execution_count": 166,
   "metadata": {
    "collapsed": false
   },
   "outputs": [
    {
     "name": "stdout",
     "output_type": "stream",
     "text": [
      "[[ 5.8         2.7       ]\n",
      " [ 5.00392157  3.4       ]\n",
      " [ 6.82391304  3.07826087]]\n",
      "[[ 6.81276596  3.07446809]\n",
      " [ 5.77358491  2.69245283]\n",
      " [ 5.006       3.418     ]]\n"
     ]
    }
   ],
   "source": [
    "# Algoritmo kMeans\n",
    "\n",
    "#Here is the pseudocode for the K-Means algorithm:\n",
    "#1) Initialize the K cluster centers C # To initialize use random values¹ or, alternatively, K random points in the dataset.\n",
    "#2) While Y changed during the last iteration do:\n",
    "# Assign each point to the nearest centroid².\n",
    "#3)     Y[i] = nearest_centroid(X[i], C)\n",
    "# Recompute each centroid as the mean of the points assigned to it².\n",
    "#4)     C = recompute_centroids(Y, X)\n",
    "#5) Return C #Final stable centroids. \n",
    "plt.ion()\n",
    "\n",
    "def show(X, C, centroids, keep = False):\n",
    "    import time\n",
    "    time.sleep(0.5)\n",
    "    plt.cla()\n",
    "    plt.plot(X[C == 0, 0], X[C == 0, 1], '*b',\n",
    "         X[C == 1, 0], X[C == 1, 1], '*r',\n",
    "         X[C == 2, 0], X[C == 2, 1], '*g')\n",
    "    plt.plot(centroids[:,0],centroids[:,1],'*m',markersize=20)\n",
    "    plt.draw()\n",
    "    if keep :\n",
    "        plt.ioff()\n",
    "        plt.show()\n",
    "\n",
    "# generate 3 cluster data\n",
    "# data = np.genfromtxt('data1.csv', delimiter=',')\n",
    "m1, cov1 = [9, 8], [[1.5, 2], [1, 2]]\n",
    "m2, cov2 = [5, 13], [[2.5, -1.5], [-1.5, 1.5]]\n",
    "m3, cov3 = [3, 7], [[0.25, 0.5], [-0.1, 0.5]]\n",
    "data1 = np.random.multivariate_normal(m1, cov1, 250)\n",
    "data2 = np.random.multivariate_normal(m2, cov2, 180)\n",
    "data3 = np.random.multivariate_normal(m3, cov3, 100)\n",
    "#X = np.vstack((data1,np.vstack((data2,data3))))\n",
    "X = data_Iris_2\n",
    "#np.random.shuffle(X)\n",
    "centroids_2, C_2 = kMeans(X, K = 3)\n",
    "centroids, C = kMeans_2(X, K = 3)\n",
    "#show(X, C, centroids, True)\n",
    "print centroids\n",
    "print centroids_2\n"
   ]
  },
  {
   "cell_type": "code",
   "execution_count": null,
   "metadata": {
    "collapsed": true
   },
   "outputs": [],
   "source": []
  },
  {
   "cell_type": "code",
   "execution_count": null,
   "metadata": {
    "collapsed": true
   },
   "outputs": [],
   "source": []
  }
 ],
 "metadata": {
  "anaconda-cloud": {},
  "kernelspec": {
   "display_name": "Python [conda root]",
   "language": "python",
   "name": "conda-root-py"
  },
  "language_info": {
   "codemirror_mode": {
    "name": "ipython",
    "version": 2
   },
   "file_extension": ".py",
   "mimetype": "text/x-python",
   "name": "python",
   "nbconvert_exporter": "python",
   "pygments_lexer": "ipython2",
   "version": "2.7.12"
  }
 },
 "nbformat": 4,
 "nbformat_minor": 1
}
