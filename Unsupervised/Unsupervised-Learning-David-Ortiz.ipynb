{
 "cells": [
  {
   "cell_type": "markdown",
   "metadata": {},
   "source": [
    "## K-Means\n",
    "\n",
    "- **Q1** Se tiene que implementar un algoritmo K-Means siguiendo los pasos del pseudo código"
   ]
  },
  {
   "cell_type": "code",
   "execution_count": 71,
   "metadata": {
    "collapsed": false
   },
   "outputs": [],
   "source": [
    "# Añaden las librerias para el proyecto\n",
    "\n",
    "import numpy as np\n",
    "import sys\n",
    "import pylab as plt"
   ]
  },
  {
   "cell_type": "markdown",
   "metadata": {},
   "source": [
    "Implementación del algoritmo de k-Means"
   ]
  },
  {
   "cell_type": "code",
   "execution_count": 119,
   "metadata": {
    "collapsed": true
   },
   "outputs": [],
   "source": [
    "# Algoritmo K-Means\n",
    "def kMeans(X, K, maxIters = 100):\n",
    "    # Se inicializa el valor del Centroide, utilizando una función que, apartir de una matriz\n",
    "    # con 150 valores, \n",
    "    centroids = X[np.random.choice(np.arange(len(X)), K), :]\n",
    "    print range(K)\n",
    "    for i in range(maxIters):\n",
    "        # Cluster Assignment step\n",
    "        C = np.array([np.argmin([np.dot(x_i-y_k, x_i-y_k) for y_k in centroids]) for x_i in X])\n",
    "        # Move centroids step\n",
    "        centroids = [X[C == k].mean(axis = 0) for k in range(K)]\n",
    "    return np.array(centroids) , C\n",
    "\n",
    "# Algoritmo K-Means\n",
    "def kMeans2(X, K, maxIters = 100):\n",
    "    # Se inicializa el valor de los centroides cogiendo 3 valores aleatorios dentro del dataset \n",
    "    # que se proporciona.\n",
    "    centroids = X[np.random.choice(np.arange(len(X)), K), :]\n",
    "    # El valor de K-Means converge cuando se hayan realizado todas las iteraciones, por tanto,\n",
    "    # se realiza un for \n",
    "    for i in range(maxIters):\n",
    "        # Cluster Assignment step\n",
    "        C = np.array([np.argmin([np.dot(x_i-y_k, x_i-y_k) for y_k in centroids]) for x_i in X])\n",
    "        # Move centroids step\n",
    "        centroids = [X[C == k].mean(axis = 0) for k in range(K)]\n",
    "    return np.array(centroids) , C"
   ]
  },
  {
   "cell_type": "markdown",
   "metadata": {},
   "source": [
    "- **Q2** Probar el algoritmo K-Means realizado con K = 3 y con las dos primeras dimensiones del dataset iris. para despues ir probandolo con 3 y 4."
   ]
  },
  {
   "cell_type": "code",
   "execution_count": 120,
   "metadata": {
    "collapsed": true
   },
   "outputs": [],
   "source": [
    "# Se cargan los datos del archivo data.iris\n",
    "data_Iris = np.array([map(float,x.split(',')[:-1]) for x in open('iris.data') if x.strip()])"
   ]
  },
  {
   "cell_type": "code",
   "execution_count": 121,
   "metadata": {
    "collapsed": false
   },
   "outputs": [],
   "source": [
    "# Se crean las variables para 2 y 3 columnas\n",
    "\n",
    "## 2 columnas\n",
    "data_Iris_2 = data_Iris[:,:2]\n",
    "\n",
    "## 3 columnas\n",
    "data_Iris_3 = data_Iris[:,:3]"
   ]
  },
  {
   "cell_type": "code",
   "execution_count": 122,
   "metadata": {
    "collapsed": false
   },
   "outputs": [
    {
     "name": "stdout",
     "output_type": "stream",
     "text": [
      "[0, 1, 2]\n",
      "7.9\n",
      "Q2.- Los centroides son: \n",
      "[[ 5.00392157  3.4       ]\n",
      " [ 5.8         2.7       ]\n",
      " [ 6.82391304  3.07826087]]\n",
      "[[        nan         nan]\n",
      " [ 5.84333333  3.054     ]\n",
      " [        nan         nan]]\n"
     ]
    }
   ],
   "source": [
    "# Algoritmo kMeans\n",
    "\n",
    "#Here is the pseudocode for the K-Means algorithm:\n",
    "#1) Initialize the K cluster centers C # To initialize use random values¹ or, alternatively, K random points in the dataset.\n",
    "#2) While Y changed during the last iteration do:\n",
    "# Assign each point to the nearest centroid².\n",
    "#3)     Y[i] = nearest_centroid(X[i], C)\n",
    "# Recompute each centroid as the mean of the points assigned to it².\n",
    "#4)     C = recompute_centroids(Y, X)\n",
    "#5) Return C #Final stable centroids. \n",
    "plt.ion()\n",
    "\n",
    "def show(X, C, centroids, keep = False):\n",
    "    import time\n",
    "    time.sleep(0.5)\n",
    "    plt.cla()\n",
    "    plt.plot(X[C == 0, 0], X[C == 0, 1], '*b',\n",
    "         X[C == 1, 0], X[C == 1, 1], '*r',\n",
    "         X[C == 2, 0], X[C == 2, 1], '*g')\n",
    "    plt.plot(centroids[:,0],centroids[:,1],'*m',markersize=20)\n",
    "    plt.draw()\n",
    "    if keep :\n",
    "        plt.ioff()\n",
    "        plt.show()\n",
    "\n",
    "# generate 3 cluster data\n",
    "# data = np.genfromtxt('data1.csv', delimiter=',')\n",
    "m1, cov1 = [9, 8], [[1.5, 2], [1, 2]]\n",
    "m2, cov2 = [5, 13], [[2.5, -1.5], [-1.5, 1.5]]\n",
    "m3, cov3 = [3, 7], [[0.25, 0.5], [-0.1, 0.5]]\n",
    "data1 = np.random.multivariate_normal(m1, cov1, 250)\n",
    "data2 = np.random.multivariate_normal(m2, cov2, 180)\n",
    "data3 = np.random.multivariate_normal(m3, cov3, 100)\n",
    "#X = np.vstack((data1,np.vstack((data2,data3))))\n",
    "np.random.shuffle(X)\n",
    "X = data_Iris_2\n",
    "centroids, C = kMeans(X, K = 3)\n",
    "#show(X, C, centroids, True)\n",
    "centroids2, C2 = kMeans2(X, K = 3)\n",
    "\n",
    "print 'Q2.- Los centroides son: '\n",
    "print centroids\n",
    "print centroids2"
   ]
  },
  {
   "cell_type": "code",
   "execution_count": null,
   "metadata": {
    "collapsed": true
   },
   "outputs": [],
   "source": []
  }
 ],
 "metadata": {
  "anaconda-cloud": {},
  "kernelspec": {
   "display_name": "Python [conda root]",
   "language": "python",
   "name": "conda-root-py"
  },
  "language_info": {
   "codemirror_mode": {
    "name": "ipython",
    "version": 2
   },
   "file_extension": ".py",
   "mimetype": "text/x-python",
   "name": "python",
   "nbconvert_exporter": "python",
   "pygments_lexer": "ipython2",
   "version": "2.7.12"
  }
 },
 "nbformat": 4,
 "nbformat_minor": 1
}
