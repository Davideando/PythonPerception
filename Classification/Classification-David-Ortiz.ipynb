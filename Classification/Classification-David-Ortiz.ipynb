{
 "cells": [
  {
   "cell_type": "markdown",
   "metadata": {},
   "source": [
    "# Pattern Recognition Assignments 2: Classification\n",
    "\n",
    "Se preparan todas las librerías necesarias para ejecutar el programa"
   ]
  },
  {
   "cell_type": "code",
   "execution_count": 183,
   "metadata": {
    "collapsed": false
   },
   "outputs": [],
   "source": [
    "# Se importa la librería numpy\n",
    "import numpy as np\n",
    "\n",
    "# Librería para los Plots\n",
    "import matplotlib.pyplot as plt\n",
    "\n",
    "# Imports de la libreria scipy\n",
    "from scipy.spatial.distance import cdist\n",
    "\n",
    "# Logistic Regression\n",
    "from sklearn.linear_model import LogisticRegression"
   ]
  },
  {
   "cell_type": "markdown",
   "metadata": {},
   "source": [
    "# K-Nearest Neighbors\n",
    "\n",
    "- **Q1**) Primero se tiene que implementar una función que haga la clasificación kNN para clasificar el dataset Iris."
   ]
  },
  {
   "cell_type": "code",
   "execution_count": 184,
   "metadata": {
    "collapsed": false
   },
   "outputs": [],
   "source": [
    "# Se crean unas variables para guardar los datos de Iris y sus labels\n",
    "# Como el fichero tiene una línea al final, se pone el if x.strip(), ya que si esta vació, esta línea no la coge.\n",
    "data_Iris = np.array([map(float,x.split(',')[:-1]) for x in open('iris.data') if x.strip()])\n",
    "labels_Iris = np.array([x.split(',')[-1].strip() for x in open('iris.data') if x.strip()])\n",
    "\n",
    "# Se cargan las matrices para los indices de los grupos de test y los grupos de entrenamiento\n",
    "train_ = np.loadtxt('iris_idx_train.txt')\n",
    "test_ = np.loadtxt('iris_idx_test.txt')\n",
    "\n",
    "# Como son indices, se pasan a integers\n",
    "train_Index = train_.astype(int)\n",
    "test_Index = test_.astype(int)\n",
    "\n",
    "# Se crean las dos matrices a partir de los indices de entrenamiento\n",
    "train_dataIris = data_Iris[train_Index,:]\n",
    "train_labelsIris = labels_Iris[train_Index]\n",
    "\n",
    "# Se crean las dos matrices a partir de los indeces de test\n",
    "test_dataIris = data_Iris[test_Index,:]\n",
    "test_labelsIris = labels_Iris[test_Index]\n"
   ]
  },
  {
   "cell_type": "markdown",
   "metadata": {},
   "source": [
    "Una vez se tienen los datos, ya se puede pasar a realizar el algoritmo ***kNN*** que se implementará para un k desde 1 a 9:"
   ]
  },
  {
   "cell_type": "code",
   "execution_count": 185,
   "metadata": {
    "collapsed": false
   },
   "outputs": [
    {
     "name": "stdout",
     "output_type": "stream",
     "text": [
      "Accuracy for k =  1 :    94.0 %.\n",
      "Accuracy for k =  2 :    92.0 %.\n",
      "Accuracy for k =  3 :    98.0 %.\n",
      "Accuracy for k =  4 :    94.0 %.\n",
      "Accuracy for k =  5 :    92.0 %.\n",
      "Accuracy for k =  6 :    90.0 %.\n",
      "Accuracy for k =  7 :    88.0 %.\n",
      "Accuracy for k =  8 :    82.0 %.\n",
      "Accuracy for k =  9 :    84.0 %.\n"
     ]
    }
   ],
   "source": [
    "# Definición de una función para calcular la exactitud de la detección\n",
    "def getAccuracy(calc_labels, results):\n",
    "    correct = 0\n",
    "    for i in range(len(results)):\n",
    "        if calc_labels[i][-1] == results[i]:\n",
    "            correct += 1\n",
    "    return (correct/float(len(results))) * 100.0\n",
    "  \n",
    "acc_plot = []\n",
    "index = []\n",
    "# Definición del algoritmo kNN:\n",
    "def kNN_function(train_data, train_labels, test_data, test_labels):\n",
    "    for k in range(1,10):\n",
    "        # Primero se debe asignar la distancia entre los puntos de los dos test de datos\n",
    "        distance = cdist(train_data,test_data)\n",
    "        # Ahora se tiene que encontrar los valores más cercanos\n",
    "        minimum_dist = np.argsort(distance.T,1)[:,1:k+1]\n",
    "        # Con las etiquetas ordenadas, ahora se debe actualizar las etiquetas\n",
    "        minimum_labels = train_labels[minimum_dist]\n",
    "        #print minimum_labels\n",
    "        #print test_labels\n",
    "        #Por ultimo se debe adquirir la accuraccy\n",
    "        Acc_Value = getAccuracy(minimum_labels,test_labels)\n",
    "        #Acc_Value = getAccuracy(train_data,minimum_labels)\n",
    "        print 'Accuracy for k = ', k, ':   ',Acc_Value,'%.'\n",
    "        #acc = accuracy_score(test_labels, [Counter(x).most_common()[0][0] for x in minimum_labels] )\n",
    "        #print 'Accuracy ',k,':', acc\n",
    "        # Save the accuracy of the odd numbers\n",
    "        if(k%2 != 0):\n",
    "            acc_plot.append(Acc_Value)\n",
    "            index.append(k)\n",
    "        \n",
    "        \n",
    "# We call the function with the train and test splits\n",
    "\n",
    "kNN_function(train_dataIris, train_labelsIris, test_dataIris, test_labelsIris)"
   ]
  },
  {
   "cell_type": "markdown",
   "metadata": {},
   "source": [
    "La precisión no es tan buena como con las funciones kNN del módulo *sklearn.neighbors*, pero es bastante buena. El siguiente paso es hacer lo mismo con los valores de *3DClothing dataset*:"
   ]
  },
  {
   "cell_type": "code",
   "execution_count": 186,
   "metadata": {
    "collapsed": false
   },
   "outputs": [
    {
     "data": {
      "image/png": "[encoded data removed]",
      "text/plain": [
       "<matplotlib.figure.Figure at 0xaaef552c>"
      ]
     },
     "metadata": {},
     "output_type": "display_data"
    }
   ],
   "source": [
    "# Plot the accuracy of Iris kNN classifier\n",
    "# Define the descriptors\n",
    "plt.title(\"Q1.- k-NN Iris data Accuracy\")\n",
    "plt.xlabel(\"Step\")\n",
    "plt.ylabel(\"Accuracy\")\n",
    "\n",
    "#Plot the Accuracy\n",
    "plt.plot(index, acc_plot)\n",
    "plt.show()"
   ]
  },
  {
   "cell_type": "markdown",
   "metadata": {},
   "source": [
    "Se repite todo para los datos de 3D clothing"
   ]
  },
  {
   "cell_type": "code",
   "execution_count": 187,
   "metadata": {
    "collapsed": false,
    "scrolled": true
   },
   "outputs": [
    {
     "name": "stdout",
     "output_type": "stream",
     "text": [
      "Accuracy for k =  1 :    56.5217391304 %.\n",
      "Accuracy for k =  2 :    57.9710144928 %.\n",
      "Accuracy for k =  3 :    55.5555555556 %.\n",
      "Accuracy for k =  4 :    56.5217391304 %.\n",
      "Accuracy for k =  5 :    57.0048309179 %.\n",
      "Accuracy for k =  6 :    55.0724637681 %.\n",
      "Accuracy for k =  7 :    50.2415458937 %.\n",
      "Accuracy for k =  8 :    46.8599033816 %.\n",
      "Accuracy for k =  9 :    43.961352657 %.\n"
     ]
    },
    {
     "data": {
      "image/png": "[encoded data removed]",
      "text/plain": [
       "<matplotlib.figure.Figure at 0xaacbbd6c>"
      ]
     },
     "metadata": {},
     "output_type": "display_data"
    }
   ],
   "source": [
    "# Se repite el código con clothing dataset\n",
    "\n",
    "# Se cargan las labels de los datos 3D clothing\n",
    "labels_3D_test = np.array([x.strip() for x in open('3dclothing_labels_test.txt') if x.strip()])\n",
    "labels_3D_train = np.array([x.strip() for x in open('3dclothing_labels_train.txt') if x.strip()])\n",
    "\n",
    "# Ahora se cargan los datos de test y train\n",
    "train_3D = np.load('3dclothing_train.npy')\n",
    "test_3D = np.load('3dclothing_test.npy')\n",
    "\n",
    "# Reset the plot variables\n",
    "acc_plot = []\n",
    "index = []\n",
    "\n",
    "kNN_function(train_3D, labels_3D_train, test_3D, labels_3D_test)\n",
    "\n",
    "# Plot the accuraccy\n",
    "# Plot the accuracy of Iris kNN classifier\n",
    "# Define the descriptors\n",
    "plt.title(\"Q1.- k-NN 3D clothing data Accuracy\")\n",
    "plt.xlabel(\"Step\")\n",
    "plt.ylabel(\"Accuracy\")\n",
    "\n",
    "#Plot the Accuracy\n",
    "plt.plot(index, acc_plot)\n",
    "plt.show()"
   ]
  },
  {
   "cell_type": "markdown",
   "metadata": {},
   "source": [
    "- **Q2** Primero va os a dividir el problema para trabajar con solo dos clases. Tenemos que dividir los datos para obtener las instacias que correspondan a **shirt** y **jeans**."
   ]
  },
  {
   "cell_type": "code",
   "execution_count": 188,
   "metadata": {
    "collapsed": false
   },
   "outputs": [],
   "source": [
    "# Con los datos obtenidos, se tienen que crear unos nuevos datasets con los datos únicamente de shirt y jeans\n",
    "label_3D_test_2class = []\n",
    "label_3D_train_2class = []\n",
    "train_3D_2class = []\n",
    "test_3D_2class = []\n",
    "\n",
    "# Se buscan en la matriz todos los parametros que tiene la etiqueta jeans o shirt\n",
    "## Para valores de test\n",
    "for i in range(0,labels_3D_test.size):\n",
    "    if((labels_3D_test[i] == 'shirt') or (labels_3D_test[i] == 'jeans')):\n",
    "        label_3D_test_2class.append(labels_3D_test[i])\n",
    "        test_3D_2class.append(test_3D[i])\n",
    "        \n",
    "## Para los valores de entrenamiento\n",
    "for i in range(0,labels_3D_train.size):\n",
    "    if((labels_3D_train[i] == 'shirt') or (labels_3D_train[i] == 'jeans')):\n",
    "        label_3D_train_2class.append(labels_3D_train[i])\n",
    "        train_3D_2class.append(train_3D[i])    "
   ]
  },
  {
   "cell_type": "markdown",
   "metadata": {},
   "source": [
    "Lo siguiente será entrenar el **Logistic regression classifier** y ajustar el valor *C* para una validación cruzada."
   ]
  },
  {
   "cell_type": "code",
   "execution_count": 189,
   "metadata": {
    "collapsed": false
   },
   "outputs": [],
   "source": [
    "# Ahora se entrena el clasificador\n",
    "## Se inicializan las variables\n",
    "Index_2Class = []\n",
    "Score_2Class = []\n",
    "\n",
    "for c in range(-7,8):\n",
    "    Log_reg = LogisticRegression(C = 10**c)\n",
    "    # Store the index\n",
    "    Index_2Class.append(c)\n",
    "    # Se ajusta el clasificador\n",
    "    Log_reg.fit(train_3D_2class,label_3D_train_2class)\n",
    "    Score_2Class.append(Log_reg.score(test_3D_2class, label_3D_test_2class))"
   ]
  },
  {
   "cell_type": "markdown",
   "metadata": {},
   "source": [
    "Dibujar un Plot con la precisión de los valores de entrenamiento y validación, e imprimir la precisión de test para el modelo seleccionado"
   ]
  },
  {
   "cell_type": "code",
   "execution_count": 190,
   "metadata": {
    "collapsed": false
   },
   "outputs": [
    {
     "data": {
      "image/png": "[encoded data removed]",
      "text/plain": [
       "<matplotlib.figure.Figure at 0xab945f0c>"
      ]
     },
     "metadata": {},
     "output_type": "display_data"
    },
    {
     "name": "stdout",
     "output_type": "stream",
     "text": [
      "Q2.- The best Clasiffier is the index:  3  with the value:  0.883116883117\n"
     ]
    }
   ],
   "source": [
    "# Plot the accuraccy of logistic regression classifier with 2 param\n",
    "# Define the descriptors\n",
    "plt.title(\"Q2.- Logistic Regression Accuracy 2 class\")\n",
    "plt.xlabel(\"Step\")\n",
    "plt.ylabel(\"Accuracy\")\n",
    "plt.xscale('log')\n",
    "\n",
    "#Plot the Accuracy\n",
    "plt.plot(Index_2Class, Score_2Class)\n",
    "plt.show()\n",
    "\n",
    "# Print the best accuracy\n",
    "best_clas = np.argmax(Score_2Class)\n",
    "print 'Q2.- The best Clasiffier is the index: ', best_clas, ' with the value: ', Score_2Class[best_clas]"
   ]
  },
  {
   "cell_type": "markdown",
   "metadata": {},
   "source": [
    "- **Q3** Ahora se repite el punto anterior pero utilizando todo el data set."
   ]
  },
  {
   "cell_type": "code",
   "execution_count": 191,
   "metadata": {
    "collapsed": false
   },
   "outputs": [
    {
     "data": {
      "image/png": "[encoded data removed]",
      "text/plain": [
       "<matplotlib.figure.Figure at 0xaab814ac>"
      ]
     },
     "metadata": {},
     "output_type": "display_data"
    },
    {
     "name": "stdout",
     "output_type": "stream",
     "text": [
      "Q3.- The best Clasiffier is the index:  4  with the value:  0.666666666667\n"
     ]
    }
   ],
   "source": [
    "# Ahora se entrena el clasificador\n",
    "## Se inicializan las variables\n",
    "Index_Full = []\n",
    "Score_Full = []\n",
    "\n",
    "for c in range(-7,8):\n",
    "    Log_reg = LogisticRegression(C = 10**c)\n",
    "    # Store the index\n",
    "    Index_Full.append(c)\n",
    "    # Se ajusta el clasificador\n",
    "    Log_reg.fit(train_3D,labels_3D_train)\n",
    "    Score_Full.append(Log_reg.score(test_3D, labels_3D_test))\n",
    "    \n",
    "# Plot the accuraccy of logistic regression classifier with all the params\n",
    "# Plot the accuracy of Iris kNN classifier\n",
    "# Define the descriptors\n",
    "plt.title(\"Q3.- Logistic Regression Accuracy all params\")\n",
    "plt.xlabel(\"Step\")\n",
    "plt.ylabel(\"Accuracy\")\n",
    "plt.xscale('log')\n",
    "\n",
    "#Plot the Accuracy\n",
    "plt.plot(Index_Full, Score_Full)\n",
    "plt.show()\n",
    "\n",
    "# Print the best accuracy\n",
    "best_Full = np.argmax(Score_Full)\n",
    "print 'Q3.- The best Clasiffier is the index: ', best_Full, ' with the value: ', Score_Full[best_Full]"
   ]
  },
  {
   "cell_type": "markdown",
   "metadata": {},
   "source": [
    "- **Q4** Primero hay que analizar el clasificador para ver que valores se necesitan guardar"
   ]
  },
  {
   "cell_type": "code",
   "execution_count": 192,
   "metadata": {
    "collapsed": false
   },
   "outputs": [
    {
     "name": "stdout",
     "output_type": "stream",
     "text": [
      "['C', '__class__', '__delattr__', '__dict__', '__doc__', '__format__', '__getattribute__', '__hash__', '__init__', '__module__', '__new__', '__reduce__', '__reduce_ex__', '__repr__', '__setattr__', '__sizeof__', '__str__', '__subclasshook__', '__weakref__', '_estimator_type', '_get_param_names', '_predict_proba_lr', 'class_weight', 'classes_', 'coef_', 'decision_function', 'densify', 'dual', 'fit', 'fit_intercept', 'fit_transform', 'get_params', 'intercept_', 'intercept_scaling', 'max_iter', 'multi_class', 'n_iter_', 'n_jobs', 'penalty', 'predict', 'predict_log_proba', 'predict_proba', 'random_state', 'score', 'set_params', 'solver', 'sparsify', 'tol', 'transform', 'verbose', 'warm_start'] \n",
      "\n",
      "\n",
      "\n",
      "Q4.- Para poder efectuar una Logistic regression classification, necesitamos dos variables, el valor\n",
      "llamado de intercept (el valor del criterio cuando el predictor es igual a cero) y el valor del \n",
      "coeficiente regressión. En el caso de este clasificador, estos valores vienen en las variables\n",
      ".intercept_ y .coef_\n"
     ]
    }
   ],
   "source": [
    "# Imprimir en pantalla los coeficientes que se obtienen desde el Log_Reg\n",
    "print dir(Log_reg),'\\n\\n\\n'\n",
    "\n",
    "print 'Q4.- Para poder efectuar una Logistic regression classification, necesitamos dos variables, el valor'\n",
    "print 'llamado de intercept (el valor del criterio cuando el predictor es igual a cero) y el valor del '\n",
    "print 'coeficiente regressión. En el caso de este clasificador, estos valores vienen en las variables'\n",
    "print '.intercept_ y .coef_'"
   ]
  },
  {
   "cell_type": "markdown",
   "metadata": {},
   "source": [
    "Lo siguiente es obtener estos valores de la clasificación que se ha hecho en el punto **Q2** para clasificar las muestras de *shirts* y *jeans* y recalcular los valores para los datos de test usando la formula de logistic regression classifier"
   ]
  },
  {
   "cell_type": "code",
   "execution_count": 206,
   "metadata": {
    "collapsed": false
   },
   "outputs": [
    {
     "name": "stdout",
     "output_type": "stream",
     "text": [
      "Q4.- Los resultados son:\n",
      "[0.57798300483707576, 0.84059304384554079, 0.98418614604266696, 0.99934597253990554, 0.99999803930132114, 0.99999999999875566, 1.0, 1.0, 1.0, 1.0, 1.0, 1.0, 1.0, 1.0, 1.0]\n",
      "\n",
      "Q4.- The best Clasiffier is the index:  6  with the value:  1.0\n"
     ]
    }
   ],
   "source": [
    "Index_2Class_2 = []\n",
    "Score_2Class_2 = []\n",
    "\n",
    "for c in range(-7,8):\n",
    "    Log_reg = LogisticRegression(C = 10**c)\n",
    "    # Store the index\n",
    "    Index_2Class_2.append(c)\n",
    "    # Se ajusta el clasificador\n",
    "    Log_reg.fit(train_3D_2class,label_3D_train_2class)\n",
    "    # Se guarda el valor de los coeficientes coef_ y intercept_\n",
    "    coeficiente = Log_reg.coef_\n",
    "    inter = Log_reg.intercept_\n",
    "    # Se calcula el clasificador utilizando la formula del clasificador\n",
    "    # y = 1/(1+e^-(x*theta + b))\n",
    "    score = 1/(1+(np.exp(-np.dot(test_3D_2class, coeficiente.T)-inter)))\n",
    "    # Se busca el mejor valor\n",
    "    Valor = np.max(score)\n",
    "    # Se guarda el valor\n",
    "    Score_2Class_2.append(Valor)\n",
    "\n",
    "# Print the results\n",
    "print 'Q4.- Los resultados son:\\n', Score_2Class_2\n",
    "# Print the best accuracy\n",
    "best_clas_2 = np.argmax(Score_2Class_2)\n",
    "print '\\nQ4.- The best Clasiffier is the index: ', best_clas_2, ' with the value: ', Score_2Class_2[best_clas_2]\n"
   ]
  },
  {
   "cell_type": "markdown",
   "metadata": {},
   "source": [
    "## Support Vector Machines\n",
    "\n",
    "- **Q5**  Para este ejercidio utilizaremos un *synthetic dataset* que tiene solo dos dimensiones. lo primero es añadir la función proporcionada para visualizar los datos"
   ]
  },
  {
   "cell_type": "code",
   "execution_count": 207,
   "metadata": {
    "collapsed": true
   },
   "outputs": [],
   "source": [
    "# Adapted from: Gael Varoquaux, Andreas Muller; \"Classifier comparison\"  \n",
    "# http://scikit-learn.org/stable/auto_examples/classification/plot_classifier_comparison.html  \n",
    "def paint_decision_functions(data, labels, clf):  \n",
    "    from matplotlib.colors import ListedColormap  \n",
    "    import pylab  \n",
    "    cm = pylab.cm.RdBu  \n",
    "    cm_bright = ListedColormap(['#FF0000', '#0000FF'])  \n",
    "    x_min, x_max = data[:, 0].min() - .5, data[:, 0].max() + .5  \n",
    "    y_min, y_max = data[:, 1].min() - .5, data[:, 1].max() + .5  \n",
    "    xx, yy = np.meshgrid(np.arange(x_min, x_max, 0.1),  \n",
    "                         np.arange(y_min, y_max, 0.1))  \n",
    "    Z = clf.decision_function(np.c_[xx.ravel(), yy.ravel()])  \n",
    "    Z = Z.reshape(xx.shape)  \n",
    "    pylab.contourf(xx, yy, Z, cmap=cm, alpha=.8)  \n",
    "    pylab.scatter(data[:, 0], data[:, 1], c=labels, cmap=cm_bright)  \n",
    "    pylab.xlim(xx.min(), xx.max())  \n",
    "    pylab.ylim(yy.min(), yy.max())  \n",
    "    pylab.xticks(())  \n",
    "    pylab.yticks(())  \n",
    "    pylab.show()  "
   ]
  },
  {
   "cell_type": "markdown",
   "metadata": {},
   "source": [
    "Ahora se debe entrenar una *Support Vector Machine* lineal y un SVM utilizando la función *Gaussian Radial Basis* utilizando los datos divididos al 50% para test y entrenamiento. "
   ]
  },
  {
   "cell_type": "code",
   "execution_count": null,
   "metadata": {
    "collapsed": true
   },
   "outputs": [],
   "source": []
  }
 ],
 "metadata": {
  "anaconda-cloud": {},
  "kernelspec": {
   "display_name": "Python [conda root]",
   "language": "python",
   "name": "conda-root-py"
  },
  "language_info": {
   "codemirror_mode": {
    "name": "ipython",
    "version": 2
   },
   "file_extension": ".py",
   "mimetype": "text/x-python",
   "name": "python",
   "nbconvert_exporter": "python",
   "pygments_lexer": "ipython2",
   "version": "2.7.12"
  }
 },
 "nbformat": 4,
 "nbformat_minor": 1
}
